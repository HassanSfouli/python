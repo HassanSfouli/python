{
 "cells": [
  {
   "cell_type": "markdown",
   "id": "a40f82b0-d6b3-4812-8dd8-161805954e54",
   "metadata": {},
   "source": [
    "Hello, World !\n",
    "--------------\n",
    "- review"
   ]
  },
  {
   "cell_type": "code",
   "execution_count": 1,
   "id": "cc2d23f7-907d-4472-b23b-767fc41bc4c5",
   "metadata": {},
   "outputs": [
    {
     "name": "stdout",
     "output_type": "stream",
     "text": [
      "Hello, world\n"
     ]
    }
   ],
   "source": [
    "print(\"Hello, world\")"
   ]
  },
  {
   "cell_type": "code",
   "execution_count": 14,
   "id": "62737b0a-8d4f-4054-9531-94940fe3d5c8",
   "metadata": {},
   "outputs": [
    {
     "name": "stdout",
     "output_type": "stream",
     "text": [
      "hello, world ! Hassan\n"
     ]
    }
   ],
   "source": [
    "name = \"Hassan\"\n",
    "print(\"hello, world ! \" + name)"
   ]
  },
  {
   "cell_type": "code",
   "execution_count": 24,
   "id": "19c31161-6fa1-4875-bbc0-236f7226830e",
   "metadata": {},
   "outputs": [
    {
     "name": "stdout",
     "output_type": "stream",
     "text": [
      "The number is 0\n",
      "The number is 1\n"
     ]
    }
   ],
   "source": [
    "for number in range(2):\n",
    "    print(\"The number is \" + str(number))"
   ]
  },
  {
   "cell_type": "code",
   "execution_count": 30,
   "id": "2f5b1d0d-1b6e-48c3-a5d5-1faa453439c4",
   "metadata": {
    "scrolled": true
   },
   "outputs": [
    {
     "name": "stdout",
     "output_type": "stream",
     "text": [
      "x=y\n"
     ]
    }
   ],
   "source": [
    "x = 10\n",
    "y = 10\n",
    "if x>y and 1==1:\n",
    "    print('x>y')\n",
    "elif  x<y and 1==1:\n",
    "    print('x<y')\n",
    "else:\n",
    "    print('x=y')"
   ]
  },
  {
   "cell_type": "markdown",
   "id": "a0378cdf-db16-4b08-81a3-d8e50b875acf",
   "metadata": {},
   "source": [
    "content : [a b c d]\n",
    "index   : 0 1 2 3 \n",
    "        : -4 -3 -2 -1"
   ]
  },
  {
   "cell_type": "code",
   "execution_count": 31,
   "id": "f9f965d7-a026-4896-a186-b1192d80a614",
   "metadata": {},
   "outputs": [
    {
     "name": "stdout",
     "output_type": "stream",
     "text": [
      "[3, 'one apple'] , length = 2\n",
      "[3, 'one apple', 'one juice'] , length = 3\n",
      "APPLE\n"
     ]
    }
   ],
   "source": [
    "#list\n",
    "list1 = [3, \"one apple\"]\n",
    "print(list1, ', length = '+ str(len(list1)))\n",
    "list1.append(\"one juice\")\n",
    "print(list1, ', length = '+ str(len(list1)))\n",
    "#dictionary\n",
    "basket = {\"food\" : \"apple\",\n",
    "          \"drink\" : \"water\",\n",
    "          \"money\" : 458}\n",
    "print(basket[\"food\"].upper())"
   ]
  },
  {
   "cell_type": "code",
   "execution_count": null,
   "id": "16d1c74d-a04d-4eb2-b094-635a1579ff4a",
   "metadata": {},
   "outputs": [],
   "source": []
  },
  {
   "cell_type": "code",
   "execution_count": null,
   "id": "e2e3b9d4-d9a4-4c88-a598-7fc28f74de06",
   "metadata": {},
   "outputs": [],
   "source": []
  }
 ],
 "metadata": {
  "kernelspec": {
   "display_name": "Python 3 (ipykernel)",
   "language": "python",
   "name": "python3"
  },
  "language_info": {
   "codemirror_mode": {
    "name": "ipython",
    "version": 3
   },
   "file_extension": ".py",
   "mimetype": "text/x-python",
   "name": "python",
   "nbconvert_exporter": "python",
   "pygments_lexer": "ipython3",
   "version": "3.12.0"
  }
 },
 "nbformat": 4,
 "nbformat_minor": 5
}
