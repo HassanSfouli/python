{
  "nbformat": 4,
  "nbformat_minor": 0,
  "metadata": {
    "colab": {
      "private_outputs": true,
      "provenance": []
    },
    "kernelspec": {
      "name": "python3",
      "display_name": "Python 3"
    },
    "language_info": {
      "name": "python"
    }
  },
  "cells": [
    {
      "cell_type": "code",
      "execution_count": null,
      "metadata": {
        "id": "qZZSpBenf2xU"
      },
      "outputs": [],
      "source": [
        "import numpy as np\n",
        "import matplotlib.pyplot as plt\n",
        "from scipy.optimize import curve_fit"
      ]
    },
    {
      "cell_type": "code",
      "source": [
        "data = np.loadtxt(\"saturation_curve.txt\")"
      ],
      "metadata": {
        "id": "YaCHig4hg47g"
      },
      "execution_count": null,
      "outputs": []
    },
    {
      "cell_type": "code",
      "source": [
        "P = data[:,0] #x\n",
        "I_ = data[:,1] #y"
      ],
      "metadata": {
        "id": "AfLEUxQYg8nV"
      },
      "execution_count": null,
      "outputs": []
    },
    {
      "cell_type": "code",
      "source": [
        "I = I_/np.max(I_)\n",
        "\n",
        "def func(P, Iinf, Psat):\n",
        "    f = Iinf * P/(P+Psat)\n",
        "    return f\n",
        "\n",
        "parameters, covariance = curve_fit(func, P, I)\n",
        "\n",
        "fit_Iinf = parameters[0]\n",
        "fit_Psat = parameters[1]\n",
        "\n",
        "\n",
        "fit_I = func(P, fit_Iinf, fit_Psat)\n",
        "\n",
        "plt.plot(P,I,\"x\", color=\"green\", label= \"Data\")\n",
        "plt.plot(P, fit_I, '--', label='fit data')\n",
        "plt.xlabel(\"Power [uW]\")\n",
        "plt.ylabel(\"Normalised Intensity [a.u.]\")\n",
        "plt.legend()\n",
        "\n",
        "print(\"I infinity is\",fit_Iinf*np.max(I_))\n",
        "print(\"P saturation is\", fit_Psat)"
      ],
      "metadata": {
        "id": "M-Ke8cUqhPFW"
      },
      "execution_count": null,
      "outputs": []
    }
  ]
}