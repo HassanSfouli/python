{
 "cells": [
  {
   "cell_type": "code",
   "execution_count": 1,
   "id": "c8a6fb89",
   "metadata": {},
   "outputs": [],
   "source": [
    "import numpy as np"
   ]
  },
  {
   "cell_type": "code",
   "execution_count": 11,
   "id": "fbbf45e7",
   "metadata": {},
   "outputs": [
    {
     "name": "stdout",
     "output_type": "stream",
     "text": [
      "[[0 1]\n",
      " [1 0]]\n"
     ]
    }
   ],
   "source": [
    "# define an operator A\n",
    "# Aa=xa\n",
    "# a : eigenvectors\n",
    "# x : eigenvalues\n",
    "\n",
    "A = np.array([[0, 1], [1, 0]])\n",
    "print(A)"
   ]
  },
  {
   "cell_type": "code",
   "execution_count": 12,
   "id": "53237572",
   "metadata": {},
   "outputs": [
    {
     "name": "stdout",
     "output_type": "stream",
     "text": [
      "[[ 0.70710678 -0.70710678]\n",
      " [ 0.70710678  0.70710678]]\n",
      "[ 1. -1.]\n"
     ]
    }
   ],
   "source": [
    "eigenvalues, eigenvectors = np.linalg.eig(A)\n",
    "\n",
    "print(eigenvectors)\n",
    "print(eigenvalues)"
   ]
  },
  {
   "cell_type": "code",
   "execution_count": 28,
   "id": "b6202637",
   "metadata": {},
   "outputs": [
    {
     "name": "stdout",
     "output_type": "stream",
     "text": [
      "[0.70710678 0.70710678]\n",
      "[-0.70710678  0.70710678]\n"
     ]
    }
   ],
   "source": [
    "a1 = eigenvectors[:, 0]\n",
    "a2 = eigenvectors[:, 1]\n",
    "print(a1)\n",
    "print(a2)"
   ]
  },
  {
   "cell_type": "code",
   "execution_count": 37,
   "id": "034ff9ef",
   "metadata": {},
   "outputs": [
    {
     "name": "stdout",
     "output_type": "stream",
     "text": [
      "1.0\n",
      "-1.0\n"
     ]
    }
   ],
   "source": [
    "x1 = eigenvalues[0]\n",
    "x2 = eigenvalues[1]\n",
    "print(x1)\n",
    "print(x2)"
   ]
  },
  {
   "cell_type": "code",
   "execution_count": 38,
   "id": "385aa5ef",
   "metadata": {},
   "outputs": [
    {
     "name": "stdout",
     "output_type": "stream",
     "text": [
      "[0.70710678 0.70710678]\n",
      "[0.70710678 0.70710678]\n"
     ]
    }
   ],
   "source": [
    "print(np.matmul(A,a1))\n",
    "print(x1*a1)"
   ]
  },
  {
   "cell_type": "code",
   "execution_count": 39,
   "id": "548addc7",
   "metadata": {},
   "outputs": [
    {
     "name": "stdout",
     "output_type": "stream",
     "text": [
      "[ 0.70710678 -0.70710678]\n",
      "[ 0.70710678 -0.70710678]\n"
     ]
    }
   ],
   "source": [
    "print(np.matmul(A,a2))\n",
    "print(x2*a2)"
   ]
  },
  {
   "cell_type": "code",
   "execution_count": null,
   "id": "bed23862",
   "metadata": {},
   "outputs": [],
   "source": []
  }
 ],
 "metadata": {
  "kernelspec": {
   "display_name": "Python 3 (ipykernel)",
   "language": "python",
   "name": "python3"
  },
  "language_info": {
   "codemirror_mode": {
    "name": "ipython",
    "version": 3
   },
   "file_extension": ".py",
   "mimetype": "text/x-python",
   "name": "python",
   "nbconvert_exporter": "python",
   "pygments_lexer": "ipython3",
   "version": "3.11.5"
  }
 },
 "nbformat": 4,
 "nbformat_minor": 5
}
